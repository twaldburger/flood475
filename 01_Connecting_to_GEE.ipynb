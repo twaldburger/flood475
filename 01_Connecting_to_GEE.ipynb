{
  "cells": [
    {
      "cell_type": "markdown",
      "metadata": {
        "id": "j24a0yZrk73d"
      },
      "source": [
        "# Connecting to Google Earth Engine\n",
        "\n",
        "This notebook explains the steps required to connect to GEE from Google Colab.\n",
        "Please run each cell by clicking on the _run_-symbol. You might need to hover your cursor over the cell to display the symbol.\n",
        "\n",
        "As a first step, we import all required libraries. We do not have to explicitly install them as they are all preinstalled in Google Colab."
      ]
    },
    {
      "cell_type": "code",
      "execution_count": 6,
      "metadata": {
        "id": "gz9ePqjOahGZ"
      },
      "outputs": [],
      "source": [
        "import ee\n",
        "import google"
      ]
    },
    {
      "cell_type": "markdown",
      "source": [
        "The next cell defines a variable PROJECT_ID which is the project ID you chose when setting up your GEE project. Please **change the variable's value to your project ID** and run the cell. You can change the variable directly in the code or via the text input field."
      ],
      "metadata": {
        "id": "4uGFystwxeJb"
      }
    },
    {
      "cell_type": "code",
      "source": [
        "PROJECT_ID = '' # @param {type: 'string'}"
      ],
      "metadata": {
        "id": "nIA1xnw0xi7I"
      },
      "execution_count": 10,
      "outputs": []
    },
    {
      "cell_type": "markdown",
      "metadata": {
        "id": "HJtvZM0tkfvz"
      },
      "source": [
        "The cell below authenticates your Google Colab user. You might be asked for your approval in order to allow Colab to access your Google account information."
      ]
    },
    {
      "cell_type": "code",
      "execution_count": 11,
      "metadata": {
        "id": "NhpqQbjlbgR_"
      },
      "outputs": [],
      "source": [
        "google.colab.auth.authenticate_user()"
      ]
    },
    {
      "cell_type": "markdown",
      "metadata": {
        "id": "gmgKR0jGmNdp"
      },
      "source": [
        "We now use your credentials to initialize a connection to the Google Earth Engine."
      ]
    },
    {
      "cell_type": "code",
      "execution_count": 12,
      "metadata": {
        "id": "tHM9GAgIbizD"
      },
      "outputs": [],
      "source": [
        "credentials, project_id = google.auth.default()\n",
        "ee.Initialize(credentials, project=PROJECT_ID)"
      ]
    },
    {
      "cell_type": "markdown",
      "metadata": {
        "id": "HLVM-gGnmykT"
      },
      "source": [
        "We finally check if our setup works by sending a request to GEE. If the cell below runs without errors, your setup is ready for the exercise."
      ]
    },
    {
      "cell_type": "code",
      "execution_count": null,
      "metadata": {
        "id": "lUxlL9k4m1gJ"
      },
      "outputs": [],
      "source": [
        "print(ee.String('Nice! That worked! :-)').getInfo())"
      ]
    },
    {
      "cell_type": "markdown",
      "metadata": {
        "id": "zQY184zF5ic9"
      },
      "source": [
        "And since we are geographers - here is a nice map.\n",
        "It is ESA's global land cover map at a 10-meter resolution. You can find more information about the dataset in the [Earth Engine Data Catalog](https://developers.google.com/earth-engine/datasets/catalog/ESA_WorldCover_v200?hl=en#description) or on the [ESA homepage](https://esa-worldcover.org/en)."
      ]
    },
    {
      "cell_type": "code",
      "execution_count": null,
      "metadata": {
        "id": "OHl-AStj5h70"
      },
      "outputs": [],
      "source": [
        "import geemap\n",
        "\n",
        "## load landcover dataset from GEE\n",
        "worldcover = ee.ImageCollection('ESA/WorldCover/v200').first()\n",
        "\n",
        "## create and display an interactive map\n",
        "Map = geemap.Map()\n",
        "Map.add_layer(worldcover, name='ESA WorldCover')\n",
        "Map.add_legend(builtin_legend='ESA_WorldCover', title='ESA Land Cover')\n",
        "Map.add_layer_manager()\n",
        "Map"
      ]
    }
  ],
  "metadata": {
    "colab": {
      "provenance": []
    },
    "kernelspec": {
      "display_name": "Python 3 (ipykernel)",
      "language": "python",
      "name": "python3"
    },
    "language_info": {
      "codemirror_mode": {
        "name": "ipython",
        "version": 3
      },
      "file_extension": ".py",
      "mimetype": "text/x-python",
      "name": "python",
      "nbconvert_exporter": "python",
      "pygments_lexer": "ipython3",
      "version": "3.11.0"
    }
  },
  "nbformat": 4,
  "nbformat_minor": 0
}